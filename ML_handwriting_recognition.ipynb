{
 "nbformat": 4,
 "nbformat_minor": 0,
 "metadata": {
  "colab": {
   "name": "CS4661-hw5-question1.ipynb",
   "provenance": [],
   "history_visible": true
  },
  "kernelspec": {
   "name": "python3",
   "display_name": "Python 3"
  },
  "language_info": {
   "name": "python"
  }
 },
 "cells": [
  {
   "cell_type": "markdown",
   "source": [
    "# Handwriting Recognition using Machine Learning\n",
    "\n",
    "Jaquan Jones"
   ],
   "metadata": {
    "id": "PK2V3JHpSBV8"
   }
  },
  {
   "cell_type": "markdown",
   "source": [
    "## A) Download the dataset “Digit” and its label from this (link)[https://app.box.com/s/sogk96kukv6ayyyy6ym63a2nu3aozif7]\n",
    "\n",
    "* Check out the dataset \n",
    "\n",
    "* **Data includes 1797 small images, 8x8 pixels, each one includes a hand-written digit 0-9**\n",
    "\n",
    "* You have to download the corresponding csv file that includes the labels of the images\n",
    "\n",
    "* The goal is to **build a Machine Learning Algorithm that can recognize the hand-written digits**"
   ],
   "metadata": {
    "id": "_qCudL2oSoNi"
   }
  },
  {
   "cell_type": "code",
   "execution_count": 14,
   "metadata": {
    "id": "uJi6DWHkO2Zg"
   },
   "outputs": [],
   "source": [
    "import pandas as pd\n",
    "import numpy as np\n",
    "\n",
    "import matplotlib.image as mpimg\n",
    "import matplotlib.pyplot as plt\n",
    "%matplotlib inline\n",
    "\n",
    "from sklearn.model_selection import train_test_split\n",
    "from sklearn.metrics import accuracy_score\n",
    "from sklearn.ensemble import RandomForestClassifier"
   ]
  },
  {
   "cell_type": "markdown",
   "source": [
    "## B) Build the feature matrix and label vector: \n",
    "\n",
    "* Each image is considered as a data sample with pixels as features\n",
    "* To build the feature table you have to convert each 8x8 image into an array of 64 elements (i.e. 64 pixels), and put it as a row of the feature matrix with 64 feature columns"
   ],
   "metadata": {
    "id": "wcjlS4gVTiGn"
   }
  },
  {
   "cell_type": "code",
   "source": [
    "df = pd.read_csv('https://raw.githubusercontent.com/jaquanjones/Handwriting-Recognition-Using-ML/7c2fc30b217c0d5dec618b906d684bac7613a1ac/label.csv')\n",
    "\n",
    "df.head()"
   ],
   "metadata": {
    "colab": {
     "base_uri": "https://localhost:8080/",
     "height": 206
    },
    "id": "eVizGy3UBRwE",
    "outputId": "136cb87a-8c88-4116-96a7-32cdb4494247"
   },
   "execution_count": 15,
   "outputs": [
    {
     "data": {
      "text/plain": "   name of the file  digit label\n0                 0            0\n1                 1            1\n2                 2            2\n3                 3            3\n4                 4            4",
      "text/html": "<div>\n<style scoped>\n    .dataframe tbody tr th:only-of-type {\n        vertical-align: middle;\n    }\n\n    .dataframe tbody tr th {\n        vertical-align: top;\n    }\n\n    .dataframe thead th {\n        text-align: right;\n    }\n</style>\n<table border=\"1\" class=\"dataframe\">\n  <thead>\n    <tr style=\"text-align: right;\">\n      <th></th>\n      <th>name of the file</th>\n      <th>digit label</th>\n    </tr>\n  </thead>\n  <tbody>\n    <tr>\n      <th>0</th>\n      <td>0</td>\n      <td>0</td>\n    </tr>\n    <tr>\n      <th>1</th>\n      <td>1</td>\n      <td>1</td>\n    </tr>\n    <tr>\n      <th>2</th>\n      <td>2</td>\n      <td>2</td>\n    </tr>\n    <tr>\n      <th>3</th>\n      <td>3</td>\n      <td>3</td>\n    </tr>\n    <tr>\n      <th>4</th>\n      <td>4</td>\n      <td>4</td>\n    </tr>\n  </tbody>\n</table>\n</div>"
     },
     "execution_count": 15,
     "metadata": {},
     "output_type": "execute_result"
    }
   ]
  },
  {
   "cell_type": "code",
   "source": [
    "file_names = df['name of the file'].tolist()\n",
    "\n",
    "y = df['digit label']\n",
    "\n",
    "print(f'{len(file_names)} files in \\'Digit/\\'')\n",
    "\n",
    "y.head()"
   ],
   "metadata": {
    "colab": {
     "base_uri": "https://localhost:8080/"
    },
    "id": "FaDkCGhzE21R",
    "outputId": "3ac0b53e-9ff9-45ff-f603-9112546629b1"
   },
   "execution_count": 16,
   "outputs": [
    {
     "name": "stdout",
     "output_type": "stream",
     "text": [
      "1797 files in 'Digit/'\n"
     ]
    },
    {
     "data": {
      "text/plain": "0    0\n1    1\n2    2\n3    3\n4    4\nName: digit label, dtype: int64"
     },
     "execution_count": 16,
     "metadata": {},
     "output_type": "execute_result"
    }
   ]
  },
  {
   "cell_type": "code",
   "execution_count": 17,
   "outputs": [],
   "source": [
    "# method to show image given file name\n",
    "def show_file_images(filename):\n",
    "    url = 'Digit/' + str(filename) + '.jpg'\n",
    "    img=mpimg.imread(url)\n",
    "    plt.imshow(img, cmap=plt.cm.gray_r, interpolation='nearest')\n",
    "    plt.show()"
   ],
   "metadata": {
    "collapsed": false,
    "pycharm": {
     "name": "#%%\n"
    }
   }
  },
  {
   "cell_type": "code",
   "execution_count": 18,
   "outputs": [
    {
     "data": {
      "text/plain": "<Figure size 432x288 with 1 Axes>",
      "image/png": "[encoded data removed]"
     },
     "metadata": {
      "needs_background": "light"
     },
     "output_type": "display_data"
    },
    {
     "data": {
      "text/plain": "<Figure size 432x288 with 1 Axes>",
      "image/png": "[encoded data removed]"
     },
     "metadata": {
      "needs_background": "light"
     },
     "output_type": "display_data"
    },
    {
     "data": {
      "text/plain": "<Figure size 432x288 with 1 Axes>",
      "image/png": "[encoded data removed]"
     },
     "metadata": {
      "needs_background": "light"
     },
     "output_type": "display_data"
    },
    {
     "data": {
      "text/plain": "<Figure size 432x288 with 1 Axes>",
      "image/png": "[encoded data removed]"
     },
     "metadata": {
      "needs_background": "light"
     },
     "output_type": "display_data"
    },
    {
     "data": {
      "text/plain": "<Figure size 432x288 with 1 Axes>",
      "image/png": "[encoded data removed]"
     },
     "metadata": {
      "needs_background": "light"
     },
     "output_type": "display_data"
    }
   ],
   "source": [
    "for f in file_names[:5]:\n",
    "    show_file_images(f)"
   ],
   "metadata": {
    "collapsed": false,
    "pycharm": {
     "name": "#%%\n"
    }
   }
  },
  {
   "cell_type": "code",
   "execution_count": 19,
   "outputs": [],
   "source": [
    "feature_array = []\n",
    "\n",
    "for f in file_names:\n",
    "    url = 'Digit/' + str(f) + '.jpg'\n",
    "    img=mpimg.imread(url)\n",
    "    feature_array.append(img.reshape(64))"
   ],
   "metadata": {
    "collapsed": false,
    "pycharm": {
     "name": "#%%\n"
    }
   }
  },
  {
   "cell_type": "code",
   "execution_count": 20,
   "outputs": [
    {
     "name": "stdout",
     "output_type": "stream",
     "text": [
      "Feature Matrix:\n",
      "\n"
     ]
    },
    {
     "data": {
      "text/plain": "   0   1    2    3    4    5   6   7   8    9   ...   54  55  56  57   58  \\\n0   0   2   88  217  158   21   0   0  16    0  ...    4   0   4   3   87   \n1   0   0   11  187  210   78   5   0  13    5  ...    0   0   0   0    0   \n2   0   0    5   59  240  199   2   0   5    0  ...   92   0   0  11    0   \n3   6   0  108  255  213   13  10   0   2  131  ...  168   1   0   0  118   \n4   0   6    0   34  160    7   7   0   5    0  ...    7   0   0   0    2   \n\n    59   60   61   62  63  \n0  228  182    0    9   2  \n1  172  251  157    0  12  \n2   54  173  255  138   0  \n3  217  226  159    0   3  \n4   42  250   51    0   4  \n\n[5 rows x 64 columns]",
      "text/html": "<div>\n<style scoped>\n    .dataframe tbody tr th:only-of-type {\n        vertical-align: middle;\n    }\n\n    .dataframe tbody tr th {\n        vertical-align: top;\n    }\n\n    .dataframe thead th {\n        text-align: right;\n    }\n</style>\n<table border=\"1\" class=\"dataframe\">\n  <thead>\n    <tr style=\"text-align: right;\">\n      <th></th>\n      <th>0</th>\n      <th>1</th>\n      <th>2</th>\n      <th>3</th>\n      <th>4</th>\n      <th>5</th>\n      <th>6</th>\n      <th>7</th>\n      <th>8</th>\n      <th>9</th>\n      <th>...</th>\n      <th>54</th>\n      <th>55</th>\n      <th>56</th>\n      <th>57</th>\n      <th>58</th>\n      <th>59</th>\n      <th>60</th>\n      <th>61</th>\n      <th>62</th>\n      <th>63</th>\n    </tr>\n  </thead>\n  <tbody>\n    <tr>\n      <th>0</th>\n      <td>0</td>\n      <td>2</td>\n      <td>88</td>\n      <td>217</td>\n      <td>158</td>\n      <td>21</td>\n      <td>0</td>\n      <td>0</td>\n      <td>16</td>\n      <td>0</td>\n      <td>...</td>\n      <td>4</td>\n      <td>0</td>\n      <td>4</td>\n      <td>3</td>\n      <td>87</td>\n      <td>228</td>\n      <td>182</td>\n      <td>0</td>\n      <td>9</td>\n      <td>2</td>\n    </tr>\n    <tr>\n      <th>1</th>\n      <td>0</td>\n      <td>0</td>\n      <td>11</td>\n      <td>187</td>\n      <td>210</td>\n      <td>78</td>\n      <td>5</td>\n      <td>0</td>\n      <td>13</td>\n      <td>5</td>\n      <td>...</td>\n      <td>0</td>\n      <td>0</td>\n      <td>0</td>\n      <td>0</td>\n      <td>0</td>\n      <td>172</td>\n      <td>251</td>\n      <td>157</td>\n      <td>0</td>\n      <td>12</td>\n    </tr>\n    <tr>\n      <th>2</th>\n      <td>0</td>\n      <td>0</td>\n      <td>5</td>\n      <td>59</td>\n      <td>240</td>\n      <td>199</td>\n      <td>2</td>\n      <td>0</td>\n      <td>5</td>\n      <td>0</td>\n      <td>...</td>\n      <td>92</td>\n      <td>0</td>\n      <td>0</td>\n      <td>11</td>\n      <td>0</td>\n      <td>54</td>\n      <td>173</td>\n      <td>255</td>\n      <td>138</td>\n      <td>0</td>\n    </tr>\n    <tr>\n      <th>3</th>\n      <td>6</td>\n      <td>0</td>\n      <td>108</td>\n      <td>255</td>\n      <td>213</td>\n      <td>13</td>\n      <td>10</td>\n      <td>0</td>\n      <td>2</td>\n      <td>131</td>\n      <td>...</td>\n      <td>168</td>\n      <td>1</td>\n      <td>0</td>\n      <td>0</td>\n      <td>118</td>\n      <td>217</td>\n      <td>226</td>\n      <td>159</td>\n      <td>0</td>\n      <td>3</td>\n    </tr>\n    <tr>\n      <th>4</th>\n      <td>0</td>\n      <td>6</td>\n      <td>0</td>\n      <td>34</td>\n      <td>160</td>\n      <td>7</td>\n      <td>7</td>\n      <td>0</td>\n      <td>5</td>\n      <td>0</td>\n      <td>...</td>\n      <td>7</td>\n      <td>0</td>\n      <td>0</td>\n      <td>0</td>\n      <td>2</td>\n      <td>42</td>\n      <td>250</td>\n      <td>51</td>\n      <td>0</td>\n      <td>4</td>\n    </tr>\n  </tbody>\n</table>\n<p>5 rows × 64 columns</p>\n</div>"
     },
     "execution_count": 20,
     "metadata": {},
     "output_type": "execute_result"
    }
   ],
   "source": [
    "feature_matrix = pd.DataFrame(feature_array)\n",
    "\n",
    "print('Feature Matrix:\\n')\n",
    "\n",
    "feature_matrix.head()"
   ],
   "metadata": {
    "collapsed": false,
    "pycharm": {
     "name": "#%%\n"
    }
   }
  },
  {
   "cell_type": "markdown",
   "source": [
    "## C) Use sklearn functions to split the dataset into testing and training sets with the following parameters:\n",
    "* test_size=0.1\n",
    "* random_state=2"
   ],
   "metadata": {
    "collapsed": false,
    "pycharm": {
     "name": "#%% md\n"
    }
   }
  },
  {
   "cell_type": "code",
   "execution_count": 21,
   "outputs": [
    {
     "name": "stdout",
     "output_type": "stream",
     "text": [
      "\n",
      "Size of training set:\n",
      "(1617, 64)\n",
      "(1617,)\n",
      "\n",
      "Size of testing set:\n",
      "(180, 64)\n",
      "(180,)\n"
     ]
    }
   ],
   "source": [
    "X_train, X_test, y_train, y_test = train_test_split(feature_matrix, y, test_size=0.1, random_state=2)\n",
    "\n",
    "print('\\nSize of training set:')\n",
    "print(X_train.shape)\n",
    "print(y_train.shape)\n",
    "\n",
    "print('\\nSize of testing set:')\n",
    "print(X_test.shape)\n",
    "print(y_test.shape)"
   ],
   "metadata": {
    "collapsed": false,
    "pycharm": {
     "name": "#%%\n"
    }
   }
  },
  {
   "cell_type": "markdown",
   "source": [
    "## D) Use scikit-learn “Random Forest” classifier to recognize the hand-written digits based on the training/testing datasets that you built in part (C)"
   ],
   "metadata": {
    "collapsed": false,
    "pycharm": {
     "name": "#%% md\n"
    }
   }
  },
  {
   "cell_type": "code",
   "execution_count": 22,
   "outputs": [
    {
     "name": "stdout",
     "output_type": "stream",
     "text": [
      "'y' predictions:\n"
     ]
    },
    {
     "data": {
      "text/plain": "array([4, 0, 9, 1, 8, 7, 1, 5, 1, 6, 6, 7, 6, 1, 5, 5, 7, 6, 2, 7, 4, 6,\n       4, 1, 5, 2, 9, 5, 4, 6, 5, 6, 3, 4, 0, 9, 9, 8, 4, 6, 8, 1, 5, 7,\n       5, 4, 9, 6, 1, 7, 0, 1, 9, 7, 3, 3, 1, 1, 8, 8, 9, 8, 5, 7, 4, 7,\n       2, 5, 8, 4, 3, 1, 3, 8, 7, 3, 3, 0, 8, 7, 2, 8, 5, 3, 8, 7, 6, 4,\n       6, 2, 2, 0, 1, 1, 5, 3, 5, 7, 6, 8, 2, 2, 6, 4, 6, 7, 3, 7, 3, 9,\n       4, 7, 0, 3, 5, 1, 5, 0, 3, 9, 2, 7, 3, 2, 0, 8, 1, 9, 2, 1, 5, 1,\n       0, 3, 4, 3, 0, 7, 3, 2, 2, 7, 3, 1, 6, 7, 2, 8, 3, 1, 1, 6, 4, 8,\n       2, 1, 8, 4, 1, 3, 1, 1, 9, 5, 4, 5, 7, 4, 8, 9, 5, 7, 6, 9, 4, 0,\n       4, 0, 0, 4])"
     },
     "execution_count": 22,
     "metadata": {},
     "output_type": "execute_result"
    }
   ],
   "source": [
    "my_RandomForest = RandomForestClassifier(n_estimators = 19, bootstrap = True, random_state=2)\n",
    "my_RandomForest.fit(X_train, y_train)\n",
    "\n",
    "y_predictions = my_RandomForest.predict(X_test)\n",
    "\n",
    "print('\\'y\\' predictions:')\n",
    "y_predictions"
   ],
   "metadata": {
    "collapsed": false,
    "pycharm": {
     "name": "#%%\n"
    }
   }
  },
  {
   "cell_type": "code",
   "execution_count": 23,
   "outputs": [
    {
     "name": "stdout",
     "output_type": "stream",
     "text": [
      "Random Forest accuracy score: 0.9277777777777778\n"
     ]
    }
   ],
   "source": [
    "rf_accuracy_score = accuracy_score(y_test, y_predictions)\n",
    "\n",
    "print(f'Random Forest accuracy score: {rf_accuracy_score}')"
   ],
   "metadata": {
    "collapsed": false,
    "pycharm": {
     "name": "#%%\n"
    }
   }
  },
  {
   "cell_type": "markdown",
   "source": [
    "## E) Write some codes to find which one of the data samples (i.e. which images) have been misclassified (classified incorrectly) in your testing set."
   ],
   "metadata": {
    "collapsed": false,
    "pycharm": {
     "name": "#%% md\n"
    }
   }
  },
  {
   "cell_type": "code",
   "execution_count": 24,
   "outputs": [
    {
     "name": "stdout",
     "output_type": "stream",
     "text": [
      "Number of inaccurate guesses: 13\n",
      "\n",
      "Names of files with inaccurate guesses:\n",
      "[1660, 1611, 123, 1582, 492, 1603, 1628, 1605, 794, 37, 69, 1468, 1573]\n"
     ]
    }
   ],
   "source": [
    "y_test_dictionary = y_test.to_dict()\n",
    "\n",
    "y_test_file_names = list(y_test_dictionary.keys())\n",
    "\n",
    "inaccuracy_list = []\n",
    "\n",
    "for name_of_file, correct_label, label_guess in zip(y_test_file_names, y_test, y_predictions):\n",
    "    if int(correct_label) != int(label_guess):\n",
    "        inaccuracy_list.append(name_of_file)\n",
    "\n",
    "print(f'Number of inaccurate guesses: {len(inaccuracy_list)}')\n",
    "print('\\nNames of files with inaccurate guesses:')\n",
    "print(inaccuracy_list)"
   ],
   "metadata": {
    "collapsed": false,
    "pycharm": {
     "name": "#%%\n"
    }
   }
  },
  {
   "cell_type": "code",
   "execution_count": 25,
   "outputs": [
    {
     "name": "stdout",
     "output_type": "stream",
     "text": [
      "Innaccurate file classifications:\n"
     ]
    },
    {
     "data": {
      "text/plain": "<Figure size 432x288 with 1 Axes>",
      "image/png": "[encoded data removed]"
     },
     "metadata": {
      "needs_background": "light"
     },
     "output_type": "display_data"
    },
    {
     "data": {
      "text/plain": "<Figure size 432x288 with 1 Axes>",
      "image/png": "[encoded data removed]"
     },
     "metadata": {
      "needs_background": "light"
     },
     "output_type": "display_data"
    },
    {
     "data": {
      "text/plain": "<Figure size 432x288 with 1 Axes>",
      "image/png": "[encoded data removed]"
     },
     "metadata": {
      "needs_background": "light"
     },
     "output_type": "display_data"
    },
    {
     "data": {
      "text/plain": "<Figure size 432x288 with 1 Axes>",
      "image/png": "[encoded data removed]"
     },
     "metadata": {
      "needs_background": "light"
     },
     "output_type": "display_data"
    },
    {
     "data": {
      "text/plain": "<Figure size 432x288 with 1 Axes>",
      "image/png": "[encoded data removed]"
     },
     "metadata": {
      "needs_background": "light"
     },
     "output_type": "display_data"
    },
    {
     "data": {
      "text/plain": "<Figure size 432x288 with 1 Axes>",
      "image/png": "[encoded data removed]"
     },
     "metadata": {
      "needs_background": "light"
     },
     "output_type": "display_data"
    },
    {
     "data": {
      "text/plain": "<Figure size 432x288 with 1 Axes>",
      "image/png": "[encoded data removed]"
     },
     "metadata": {
      "needs_background": "light"
     },
     "output_type": "display_data"
    },
    {
     "data": {
      "text/plain": "<Figure size 432x288 with 1 Axes>",
      "image/png": "[encoded data removed]"
     },
     "metadata": {
      "needs_background": "light"
     },
     "output_type": "display_data"
    },
    {
     "data": {
      "text/plain": "<Figure size 432x288 with 1 Axes>",
      "image/png": "[encoded data removed]"
     },
     "metadata": {
      "needs_background": "light"
     },
     "output_type": "display_data"
    },
    {
     "data": {
      "text/plain": "<Figure size 432x288 with 1 Axes>",
      "image/png": "[encoded data removed]"
     },
     "metadata": {
      "needs_background": "light"
     },
     "output_type": "display_data"
    },
    {
     "data": {
      "text/plain": "<Figure size 432x288 with 1 Axes>",
      "image/png": "[encoded data removed]"
     },
     "metadata": {
      "needs_background": "light"
     },
     "output_type": "display_data"
    },
    {
     "data": {
      "text/plain": "<Figure size 432x288 with 1 Axes>",
      "image/png": "[encoded data removed]"
     },
     "metadata": {
      "needs_background": "light"
     },
     "output_type": "display_data"
    },
    {
     "data": {
      "text/plain": "<Figure size 432x288 with 1 Axes>",
      "image/png": "[encoded data removed]"
     },
     "metadata": {
      "needs_background": "light"
     },
     "output_type": "display_data"
    }
   ],
   "source": [
    "print(\"Innaccurate file classifications:\")\n",
    "for f in inaccuracy_list:\n",
    "    show_file_images(f)"
   ],
   "metadata": {
    "collapsed": false,
    "pycharm": {
     "name": "#%%\n"
    }
   }
  }
 ]
}